{
 "cells": [
  {
   "cell_type": "markdown",
   "id": "7196054f",
   "metadata": {},
   "source": [
    "# Working with APIs"
   ]
  },
  {
   "cell_type": "markdown",
   "id": "0547b71e",
   "metadata": {},
   "source": [
    "API stands for Application programming interface<br>\n",
    "APIs are a way for applications to talk to eachother<br>\n",
    "In python we use the requests package to handle the connection<br>\n",
    "<small><strong>Note: It is requests with an s not request(this is a different package)</strong></small><br>\n",
    "Most API's communicate with data in the form of JSON<br>\n",
    "JSON stands for JavaScript Object Notation"
   ]
  },
  {
   "attachments": {},
   "cell_type": "markdown",
   "id": "cc80a1f0",
   "metadata": {},
   "source": [
    "### importing requests module"
   ]
  },
  {
   "cell_type": "code",
   "execution_count": 55,
   "id": "4db9d154",
   "metadata": {},
   "outputs": [],
   "source": [
    "import requests"
   ]
  },
  {
   "cell_type": "markdown",
   "id": "e8c2ce51",
   "metadata": {},
   "source": [
    "We will be connecting to the Ergast F1 Racer API today:\n",
    "http://ergast.com/mrd/\n",
    "\n",
    "to view JSON data nicely in the Chrome browser install the extension JSONview"
   ]
  },
  {
   "cell_type": "code",
   "execution_count": 12,
   "id": "52c440c6",
   "metadata": {},
   "outputs": [],
   "source": [
    "# Make sure to attach extension .json at the end of url\n",
    "# http[s]://ergast.com/api/<series>/<season>/<round>/...\n",
    "\n",
    "url = 'https://ergast.com/api/f1/2020/1/driverstandings.json'"
   ]
  },
  {
   "attachments": {},
   "cell_type": "markdown",
   "id": "1f8dc8b3",
   "metadata": {},
   "source": [
    "### using the request package to access data from api/url"
   ]
  },
  {
   "cell_type": "code",
   "execution_count": 18,
   "id": "f60c1b4a",
   "metadata": {},
   "outputs": [
    {
     "name": "stdout",
     "output_type": "stream",
     "text": [
      "<class 'requests.models.Response'>\n"
     ]
    }
   ],
   "source": [
    "response = requests.get(url)\n",
    "print(type(response))"
   ]
  },
  {
   "attachments": {},
   "cell_type": "markdown",
   "id": "52f840a9",
   "metadata": {},
   "source": [
    "### checking and making sure we got a successful response from our API\n",
    "#### status codes: 200 = ok/successful, 400 = bad/unsuccessful"
   ]
  },
  {
   "cell_type": "code",
   "execution_count": 21,
   "id": "7b63a204",
   "metadata": {},
   "outputs": [
    {
     "data": {
      "text/plain": [
       "True"
      ]
     },
     "execution_count": 21,
     "metadata": {},
     "output_type": "execute_result"
    }
   ],
   "source": [
    "response.status_code\n",
    "response.ok\n",
    "\n",
    "# if response.status_code == 200:\n",
    "\n",
    "# if response.ok:\n"
   ]
  },
  {
   "attachments": {},
   "cell_type": "markdown",
   "id": "bc3fa89d",
   "metadata": {},
   "source": [
    "### view the response as a JSON with .json()"
   ]
  },
  {
   "cell_type": "code",
   "execution_count": 23,
   "id": "ed4d3256",
   "metadata": {},
   "outputs": [],
   "source": [
    "data = response.json()"
   ]
  },
  {
   "attachments": {},
   "cell_type": "markdown",
   "id": "3b49045f",
   "metadata": {},
   "source": [
    "### Get the Driver Standings Data from JSON"
   ]
  },
  {
   "cell_type": "code",
   "execution_count": 44,
   "id": "f074dfcf",
   "metadata": {},
   "outputs": [
    {
     "name": "stdout",
     "output_type": "stream",
     "text": [
      "[{'position': '1', 'positionText': '1', 'points': '25', 'wins': '1', 'Driver': {'driverId': 'bottas', 'permanentNumber': '77', 'code': 'BOT', 'url': 'http://en.wikipedia.org/wiki/Valtteri_Bottas', 'givenName': 'Valtteri', 'familyName': 'Bottas', 'dateOfBirth': '1989-08-28', 'nationality': 'Finnish'}, 'Constructors': [{'constructorId': 'mercedes', 'url': 'http://en.wikipedia.org/wiki/Mercedes-Benz_in_Formula_One', 'name': 'Mercedes', 'nationality': 'German'}]}, {'position': '2', 'positionText': '2', 'points': '18', 'wins': '0', 'Driver': {'driverId': 'leclerc', 'permanentNumber': '16', 'code': 'LEC', 'url': 'http://en.wikipedia.org/wiki/Charles_Leclerc', 'givenName': 'Charles', 'familyName': 'Leclerc', 'dateOfBirth': '1997-10-16', 'nationality': 'Monegasque'}, 'Constructors': [{'constructorId': 'ferrari', 'url': 'http://en.wikipedia.org/wiki/Scuderia_Ferrari', 'name': 'Ferrari', 'nationality': 'Italian'}]}, {'position': '3', 'positionText': '3', 'points': '16', 'wins': '0', 'Driver': {'driverId': 'norris', 'permanentNumber': '4', 'code': 'NOR', 'url': 'http://en.wikipedia.org/wiki/Lando_Norris', 'givenName': 'Lando', 'familyName': 'Norris', 'dateOfBirth': '1999-11-13', 'nationality': 'British'}, 'Constructors': [{'constructorId': 'mclaren', 'url': 'http://en.wikipedia.org/wiki/McLaren', 'name': 'McLaren', 'nationality': 'British'}]}, {'position': '4', 'positionText': '4', 'points': '12', 'wins': '0', 'Driver': {'driverId': 'hamilton', 'permanentNumber': '44', 'code': 'HAM', 'url': 'http://en.wikipedia.org/wiki/Lewis_Hamilton', 'givenName': 'Lewis', 'familyName': 'Hamilton', 'dateOfBirth': '1985-01-07', 'nationality': 'British'}, 'Constructors': [{'constructorId': 'mercedes', 'url': 'http://en.wikipedia.org/wiki/Mercedes-Benz_in_Formula_One', 'name': 'Mercedes', 'nationality': 'German'}]}, {'position': '5', 'positionText': '5', 'points': '10', 'wins': '0', 'Driver': {'driverId': 'sainz', 'permanentNumber': '55', 'code': 'SAI', 'url': 'http://en.wikipedia.org/wiki/Carlos_Sainz_Jr.', 'givenName': 'Carlos', 'familyName': 'Sainz', 'dateOfBirth': '1994-09-01', 'nationality': 'Spanish'}, 'Constructors': [{'constructorId': 'mclaren', 'url': 'http://en.wikipedia.org/wiki/McLaren', 'name': 'McLaren', 'nationality': 'British'}]}, {'position': '6', 'positionText': '6', 'points': '8', 'wins': '0', 'Driver': {'driverId': 'perez', 'permanentNumber': '11', 'code': 'PER', 'url': 'http://en.wikipedia.org/wiki/Sergio_P%C3%A9rez', 'givenName': 'Sergio', 'familyName': 'Pérez', 'dateOfBirth': '1990-01-26', 'nationality': 'Mexican'}, 'Constructors': [{'constructorId': 'racing_point', 'url': 'http://en.wikipedia.org/wiki/Racing_Point_F1_Team', 'name': 'Racing Point', 'nationality': 'British'}]}, {'position': '7', 'positionText': '7', 'points': '6', 'wins': '0', 'Driver': {'driverId': 'gasly', 'permanentNumber': '10', 'code': 'GAS', 'url': 'http://en.wikipedia.org/wiki/Pierre_Gasly', 'givenName': 'Pierre', 'familyName': 'Gasly', 'dateOfBirth': '1996-02-07', 'nationality': 'French'}, 'Constructors': [{'constructorId': 'alphatauri', 'url': 'http://en.wikipedia.org/wiki/Scuderia_AlphaTauri', 'name': 'AlphaTauri', 'nationality': 'Italian'}]}, {'position': '8', 'positionText': '8', 'points': '4', 'wins': '0', 'Driver': {'driverId': 'ocon', 'permanentNumber': '31', 'code': 'OCO', 'url': 'http://en.wikipedia.org/wiki/Esteban_Ocon', 'givenName': 'Esteban', 'familyName': 'Ocon', 'dateOfBirth': '1996-09-17', 'nationality': 'French'}, 'Constructors': [{'constructorId': 'renault', 'url': 'http://en.wikipedia.org/wiki/Renault_in_Formula_One', 'name': 'Renault', 'nationality': 'French'}]}, {'position': '9', 'positionText': '9', 'points': '2', 'wins': '0', 'Driver': {'driverId': 'giovinazzi', 'permanentNumber': '99', 'code': 'GIO', 'url': 'http://en.wikipedia.org/wiki/Antonio_Giovinazzi', 'givenName': 'Antonio', 'familyName': 'Giovinazzi', 'dateOfBirth': '1993-12-14', 'nationality': 'Italian'}, 'Constructors': [{'constructorId': 'alfa', 'url': 'http://en.wikipedia.org/wiki/Alfa_Romeo_in_Formula_One', 'name': 'Alfa Romeo', 'nationality': 'Swiss'}]}, {'position': '10', 'positionText': '10', 'points': '1', 'wins': '0', 'Driver': {'driverId': 'vettel', 'permanentNumber': '5', 'code': 'VET', 'url': 'http://en.wikipedia.org/wiki/Sebastian_Vettel', 'givenName': 'Sebastian', 'familyName': 'Vettel', 'dateOfBirth': '1987-07-03', 'nationality': 'German'}, 'Constructors': [{'constructorId': 'ferrari', 'url': 'http://en.wikipedia.org/wiki/Scuderia_Ferrari', 'name': 'Ferrari', 'nationality': 'Italian'}]}, {'position': '11', 'positionText': '11', 'points': '0', 'wins': '0', 'Driver': {'driverId': 'latifi', 'permanentNumber': '6', 'code': 'LAT', 'url': 'http://en.wikipedia.org/wiki/Nicholas_Latifi', 'givenName': 'Nicholas', 'familyName': 'Latifi', 'dateOfBirth': '1995-06-29', 'nationality': 'Canadian'}, 'Constructors': [{'constructorId': 'williams', 'url': 'http://en.wikipedia.org/wiki/Williams_Grand_Prix_Engineering', 'name': 'Williams', 'nationality': 'British'}]}, {'position': '12', 'positionText': '12', 'points': '0', 'wins': '0', 'Driver': {'driverId': 'kvyat', 'permanentNumber': '26', 'code': 'KVY', 'url': 'http://en.wikipedia.org/wiki/Daniil_Kvyat', 'givenName': 'Daniil', 'familyName': 'Kvyat', 'dateOfBirth': '1994-04-26', 'nationality': 'Russian'}, 'Constructors': [{'constructorId': 'alphatauri', 'url': 'http://en.wikipedia.org/wiki/Scuderia_AlphaTauri', 'name': 'AlphaTauri', 'nationality': 'Italian'}]}, {'position': '13', 'positionText': '13', 'points': '0', 'wins': '0', 'Driver': {'driverId': 'albon', 'permanentNumber': '23', 'code': 'ALB', 'url': 'http://en.wikipedia.org/wiki/Alexander_Albon', 'givenName': 'Alexander', 'familyName': 'Albon', 'dateOfBirth': '1996-03-23', 'nationality': 'Thai'}, 'Constructors': [{'constructorId': 'red_bull', 'url': 'http://en.wikipedia.org/wiki/Red_Bull_Racing', 'name': 'Red Bull', 'nationality': 'Austrian'}]}, {'position': '14', 'positionText': '14', 'points': '0', 'wins': '0', 'Driver': {'driverId': 'raikkonen', 'permanentNumber': '7', 'code': 'RAI', 'url': 'http://en.wikipedia.org/wiki/Kimi_R%C3%A4ikk%C3%B6nen', 'givenName': 'Kimi', 'familyName': 'Räikkönen', 'dateOfBirth': '1979-10-17', 'nationality': 'Finnish'}, 'Constructors': [{'constructorId': 'alfa', 'url': 'http://en.wikipedia.org/wiki/Alfa_Romeo_in_Formula_One', 'name': 'Alfa Romeo', 'nationality': 'Swiss'}]}, {'position': '15', 'positionText': '15', 'points': '0', 'wins': '0', 'Driver': {'driverId': 'russell', 'permanentNumber': '63', 'code': 'RUS', 'url': 'http://en.wikipedia.org/wiki/George_Russell_(racing_driver)', 'givenName': 'George', 'familyName': 'Russell', 'dateOfBirth': '1998-02-15', 'nationality': 'British'}, 'Constructors': [{'constructorId': 'williams', 'url': 'http://en.wikipedia.org/wiki/Williams_Grand_Prix_Engineering', 'name': 'Williams', 'nationality': 'British'}]}, {'position': '16', 'positionText': '16', 'points': '0', 'wins': '0', 'Driver': {'driverId': 'grosjean', 'permanentNumber': '8', 'code': 'GRO', 'url': 'http://en.wikipedia.org/wiki/Romain_Grosjean', 'givenName': 'Romain', 'familyName': 'Grosjean', 'dateOfBirth': '1986-04-17', 'nationality': 'French'}, 'Constructors': [{'constructorId': 'haas', 'url': 'http://en.wikipedia.org/wiki/Haas_F1_Team', 'name': 'Haas F1 Team', 'nationality': 'American'}]}, {'position': '17', 'positionText': '17', 'points': '0', 'wins': '0', 'Driver': {'driverId': 'kevin_magnussen', 'permanentNumber': '20', 'code': 'MAG', 'url': 'http://en.wikipedia.org/wiki/Kevin_Magnussen', 'givenName': 'Kevin', 'familyName': 'Magnussen', 'dateOfBirth': '1992-10-05', 'nationality': 'Danish'}, 'Constructors': [{'constructorId': 'haas', 'url': 'http://en.wikipedia.org/wiki/Haas_F1_Team', 'name': 'Haas F1 Team', 'nationality': 'American'}]}, {'position': '18', 'positionText': '18', 'points': '0', 'wins': '0', 'Driver': {'driverId': 'stroll', 'permanentNumber': '18', 'code': 'STR', 'url': 'http://en.wikipedia.org/wiki/Lance_Stroll', 'givenName': 'Lance', 'familyName': 'Stroll', 'dateOfBirth': '1998-10-29', 'nationality': 'Canadian'}, 'Constructors': [{'constructorId': 'racing_point', 'url': 'http://en.wikipedia.org/wiki/Racing_Point_F1_Team', 'name': 'Racing Point', 'nationality': 'British'}]}, {'position': '19', 'positionText': '19', 'points': '0', 'wins': '0', 'Driver': {'driverId': 'ricciardo', 'permanentNumber': '3', 'code': 'RIC', 'url': 'http://en.wikipedia.org/wiki/Daniel_Ricciardo', 'givenName': 'Daniel', 'familyName': 'Ricciardo', 'dateOfBirth': '1989-07-01', 'nationality': 'Australian'}, 'Constructors': [{'constructorId': 'renault', 'url': 'http://en.wikipedia.org/wiki/Renault_in_Formula_One', 'name': 'Renault', 'nationality': 'French'}]}, {'position': '20', 'positionText': '20', 'points': '0', 'wins': '0', 'Driver': {'driverId': 'max_verstappen', 'permanentNumber': '33', 'code': 'VER', 'url': 'http://en.wikipedia.org/wiki/Max_Verstappen', 'givenName': 'Max', 'familyName': 'Verstappen', 'dateOfBirth': '1997-09-30', 'nationality': 'Dutch'}, 'Constructors': [{'constructorId': 'red_bull', 'url': 'http://en.wikipedia.org/wiki/Red_Bull_Racing', 'name': 'Red Bull', 'nationality': 'Austrian'}]}]\n"
     ]
    }
   ],
   "source": [
    "driver_standings_data = data[\"MRData\"][\"StandingsTable\"][\"StandingsLists\"][0][\"DriverStandings\"]\n",
    "print(driver_standings_data)\n"
   ]
  },
  {
   "attachments": {},
   "cell_type": "markdown",
   "id": "459823db",
   "metadata": {},
   "source": [
    "### Use a for loop to display all driver full names"
   ]
  },
  {
   "cell_type": "code",
   "execution_count": 50,
   "id": "be46a950",
   "metadata": {},
   "outputs": [
    {
     "name": "stdout",
     "output_type": "stream",
     "text": [
      "Valtteri Bottas\n",
      "Charles Leclerc\n",
      "Lando Norris\n",
      "Lewis Hamilton\n",
      "Carlos Sainz\n",
      "Sergio Pérez\n",
      "Pierre Gasly\n",
      "Esteban Ocon\n",
      "Antonio Giovinazzi\n",
      "Sebastian Vettel\n",
      "Nicholas Latifi\n",
      "Daniil Kvyat\n",
      "Alexander Albon\n",
      "Kimi Räikkönen\n",
      "George Russell\n",
      "Romain Grosjean\n",
      "Kevin Magnussen\n",
      "Lance Stroll\n",
      "Daniel Ricciardo\n",
      "Max Verstappen\n"
     ]
    }
   ],
   "source": [
    "driver_standings_data = data[\"MRData\"][\"StandingsTable\"][\"StandingsLists\"][0][\"DriverStandings\"]\n",
    "\n",
    "for driver in driver_standings_data:\n",
    "    print(f\"{driver['Driver']['givenName']} {driver['Driver']['familyName']}\")"
   ]
  },
  {
   "attachments": {},
   "cell_type": "markdown",
   "id": "43c20f0d",
   "metadata": {},
   "source": [
    "### Create a function getting certain driver info (givenName, familyName, dateOfBirth, wins, team)"
   ]
  },
  {
   "cell_type": "code",
   "execution_count": 42,
   "id": "3740c752",
   "metadata": {},
   "outputs": [
    {
     "name": "stdout",
     "output_type": "stream",
     "text": [
      "[{'first_name': 'Valtteri', 'last_name': 'Bottas', 'DOB': '1989-08-28', 'wins': '1', 'team': 'Mercedes'}, {'first_name': 'Charles', 'last_name': 'Leclerc', 'DOB': '1997-10-16', 'wins': '0', 'team': 'Ferrari'}, {'first_name': 'Lando', 'last_name': 'Norris', 'DOB': '1999-11-13', 'wins': '0', 'team': 'McLaren'}, {'first_name': 'Lewis', 'last_name': 'Hamilton', 'DOB': '1985-01-07', 'wins': '0', 'team': 'Mercedes'}, {'first_name': 'Carlos', 'last_name': 'Sainz', 'DOB': '1994-09-01', 'wins': '0', 'team': 'McLaren'}, {'first_name': 'Sergio', 'last_name': 'Pérez', 'DOB': '1990-01-26', 'wins': '0', 'team': 'Racing Point'}, {'first_name': 'Pierre', 'last_name': 'Gasly', 'DOB': '1996-02-07', 'wins': '0', 'team': 'AlphaTauri'}, {'first_name': 'Esteban', 'last_name': 'Ocon', 'DOB': '1996-09-17', 'wins': '0', 'team': 'Renault'}, {'first_name': 'Antonio', 'last_name': 'Giovinazzi', 'DOB': '1993-12-14', 'wins': '0', 'team': 'Alfa Romeo'}, {'first_name': 'Sebastian', 'last_name': 'Vettel', 'DOB': '1987-07-03', 'wins': '0', 'team': 'Ferrari'}, {'first_name': 'Nicholas', 'last_name': 'Latifi', 'DOB': '1995-06-29', 'wins': '0', 'team': 'Williams'}, {'first_name': 'Daniil', 'last_name': 'Kvyat', 'DOB': '1994-04-26', 'wins': '0', 'team': 'AlphaTauri'}, {'first_name': 'Alexander', 'last_name': 'Albon', 'DOB': '1996-03-23', 'wins': '0', 'team': 'Red Bull'}, {'first_name': 'Kimi', 'last_name': 'Räikkönen', 'DOB': '1979-10-17', 'wins': '0', 'team': 'Alfa Romeo'}, {'first_name': 'George', 'last_name': 'Russell', 'DOB': '1998-02-15', 'wins': '0', 'team': 'Williams'}, {'first_name': 'Romain', 'last_name': 'Grosjean', 'DOB': '1986-04-17', 'wins': '0', 'team': 'Haas F1 Team'}, {'first_name': 'Kevin', 'last_name': 'Magnussen', 'DOB': '1992-10-05', 'wins': '0', 'team': 'Haas F1 Team'}, {'first_name': 'Lance', 'last_name': 'Stroll', 'DOB': '1998-10-29', 'wins': '0', 'team': 'Racing Point'}, {'first_name': 'Daniel', 'last_name': 'Ricciardo', 'DOB': '1989-07-01', 'wins': '0', 'team': 'Renault'}, {'first_name': 'Max', 'last_name': 'Verstappen', 'DOB': '1997-09-30', 'wins': '0', 'team': 'Red Bull'}]\n"
     ]
    }
   ],
   "source": [
    "driver_standings_data = data[\"MRData\"][\"StandingsTable\"][\"StandingsLists\"][0][\"DriverStandings\"]\n",
    "def get_driver_info(data):\n",
    "    new_driver_data = []\n",
    "    for driver in data:\n",
    "        driver_dict ={\n",
    "            'first_name' : driver['Driver']['givenName'],\n",
    "            'last_name' : driver['Driver']['familyName'],\n",
    "            'DOB' : driver['Driver']['dateOfBirth'],\n",
    "            'wins' : driver['wins'],\n",
    "            'team': driver['Constructors'][0]['name']\n",
    "        }\n",
    "        new_driver_data.append(driver_dict)\n",
    "    return new_driver_data\n",
    "print(get_driver_info(driver_standings_data))"
   ]
  },
  {
   "attachments": {},
   "cell_type": "markdown",
   "id": "1a713b13",
   "metadata": {},
   "source": [
    "### Making a more flexible function to handle different years and rounds"
   ]
  },
  {
   "cell_type": "code",
   "execution_count": 60,
   "id": "e9866280",
   "metadata": {},
   "outputs": [
    {
     "data": {
      "text/plain": [
       "[{'first_name': 'Lewis',\n",
       "  'last_name': 'Hamilton',\n",
       "  'DOB': '1985-01-07',\n",
       "  'wins': '1',\n",
       "  'team': 'Mercedes'},\n",
       " {'first_name': 'Max',\n",
       "  'last_name': 'Verstappen',\n",
       "  'DOB': '1997-09-30',\n",
       "  'wins': '1',\n",
       "  'team': 'Red Bull'},\n",
       " {'first_name': 'Lando',\n",
       "  'last_name': 'Norris',\n",
       "  'DOB': '1999-11-13',\n",
       "  'wins': '0',\n",
       "  'team': 'McLaren'},\n",
       " {'first_name': 'Charles',\n",
       "  'last_name': 'Leclerc',\n",
       "  'DOB': '1997-10-16',\n",
       "  'wins': '0',\n",
       "  'team': 'Ferrari'},\n",
       " {'first_name': 'Valtteri',\n",
       "  'last_name': 'Bottas',\n",
       "  'DOB': '1989-08-28',\n",
       "  'wins': '0',\n",
       "  'team': 'Mercedes'},\n",
       " {'first_name': 'Carlos',\n",
       "  'last_name': 'Sainz',\n",
       "  'DOB': '1994-09-01',\n",
       "  'wins': '0',\n",
       "  'team': 'Ferrari'},\n",
       " {'first_name': 'Daniel',\n",
       "  'last_name': 'Ricciardo',\n",
       "  'DOB': '1989-07-01',\n",
       "  'wins': '0',\n",
       "  'team': 'McLaren'},\n",
       " {'first_name': 'Sergio',\n",
       "  'last_name': 'Pérez',\n",
       "  'DOB': '1990-01-26',\n",
       "  'wins': '0',\n",
       "  'team': 'Red Bull'},\n",
       " {'first_name': 'Pierre',\n",
       "  'last_name': 'Gasly',\n",
       "  'DOB': '1996-02-07',\n",
       "  'wins': '0',\n",
       "  'team': 'AlphaTauri'},\n",
       " {'first_name': 'Lance',\n",
       "  'last_name': 'Stroll',\n",
       "  'DOB': '1998-10-29',\n",
       "  'wins': '0',\n",
       "  'team': 'Aston Martin'},\n",
       " {'first_name': 'Yuki',\n",
       "  'last_name': 'Tsunoda',\n",
       "  'DOB': '2000-05-11',\n",
       "  'wins': '0',\n",
       "  'team': 'AlphaTauri'},\n",
       " {'first_name': 'Esteban',\n",
       "  'last_name': 'Ocon',\n",
       "  'DOB': '1996-09-17',\n",
       "  'wins': '0',\n",
       "  'team': 'Alpine F1 Team'},\n",
       " {'first_name': 'Fernando',\n",
       "  'last_name': 'Alonso',\n",
       "  'DOB': '1981-07-29',\n",
       "  'wins': '0',\n",
       "  'team': 'Alpine F1 Team'},\n",
       " {'first_name': 'Kimi',\n",
       "  'last_name': 'Räikkönen',\n",
       "  'DOB': '1979-10-17',\n",
       "  'wins': '0',\n",
       "  'team': 'Alfa Romeo'},\n",
       " {'first_name': 'Antonio',\n",
       "  'last_name': 'Giovinazzi',\n",
       "  'DOB': '1993-12-14',\n",
       "  'wins': '0',\n",
       "  'team': 'Alfa Romeo'},\n",
       " {'first_name': 'George',\n",
       "  'last_name': 'Russell',\n",
       "  'DOB': '1998-02-15',\n",
       "  'wins': '0',\n",
       "  'team': 'Williams'},\n",
       " {'first_name': 'Sebastian',\n",
       "  'last_name': 'Vettel',\n",
       "  'DOB': '1987-07-03',\n",
       "  'wins': '0',\n",
       "  'team': 'Aston Martin'},\n",
       " {'first_name': 'Mick',\n",
       "  'last_name': 'Schumacher',\n",
       "  'DOB': '1999-03-22',\n",
       "  'wins': '0',\n",
       "  'team': 'Haas F1 Team'},\n",
       " {'first_name': 'Nikita',\n",
       "  'last_name': 'Mazepin',\n",
       "  'DOB': '1999-03-02',\n",
       "  'wins': '0',\n",
       "  'team': 'Haas F1 Team'},\n",
       " {'first_name': 'Nicholas',\n",
       "  'last_name': 'Latifi',\n",
       "  'DOB': '1995-06-29',\n",
       "  'wins': '0',\n",
       "  'team': 'Williams'}]"
      ]
     },
     "execution_count": 60,
     "metadata": {},
     "output_type": "execute_result"
    }
   ],
   "source": [
    "def  get_driver_info_rnd(year, rnd):\n",
    "    url = f'https://ergast.com/api/f1/{year}/{rnd}/driverstandings.json'\n",
    "    response = requests.get(url)\n",
    "    if response.ok:\n",
    "        data = response.json()\n",
    "        driver_standings_data = data[\"MRData\"][\"StandingsTable\"][\"StandingsLists\"][0][\"DriverStandings\"]\n",
    "        return get_driver_info(driver_standings_data)\n",
    "    else:\n",
    "        return 'That year or round does not exist! please try again!'\n",
    "    \n",
    "get_driver_info_rnd(2021, 2)"
   ]
  },
  {
   "cell_type": "markdown",
   "id": "6d546014",
   "metadata": {},
   "source": [
    "# <strong>Homework</strong>\n",
    "check out this Pokemon API https://pokeapi.co/\n",
    "Use the requests package to connect to this API and get and store data for 5 different pokemon.\n",
    "Get the pokemons: name, atleast one ability's name, base_experience, and the URL for its sprite (an image that shows up on screen) for the 'front_shiny', attack base_stat, hp base_stat, defense base_stat"
   ]
  },
  {
   "cell_type": "code",
   "execution_count": 8,
   "id": "5a9081e3",
   "metadata": {},
   "outputs": [
    {
     "name": "stdout",
     "output_type": "stream",
     "text": [
      "pokedex number:7\n",
      " The best starter pokemon: squirtle\n",
      " an ability: torrent\n",
      " base experience: 63\n",
      " pokemon spirite(url):https://raw.githubusercontent.com/PokeAPI/sprites/master/sprites/pokemon/shiny/7.png\n",
      " base attack: 44\n",
      " base health points:48\n",
      " base defense:65\n",
      "pokedex number:117\n",
      " pokemon's name: seadra\n",
      " an ability: poison-point\n",
      " base experience: 154\n",
      " pokemon spirite(url):https://raw.githubusercontent.com/PokeAPI/sprites/master/sprites/pokemon/shiny/117.png\n",
      " base attack: 55\n",
      " base health points:65\n",
      " base defense:95\n",
      "pokedex number:54\n",
      " pokemon's name: psyduck\n",
      " an ability: damp\n",
      " base experience: 64\n",
      " pokemon spirite(url):https://raw.githubusercontent.com/PokeAPI/sprites/master/sprites/pokemon/shiny/54.png\n",
      " base attack: 50\n",
      " base health points:52\n",
      " base defense:48\n"
     ]
    }
   ],
   "source": [
    "import requests\n",
    "url = 'https://pokeapi.co/api/v2/pokemon'\n",
    "response = requests.get(url)\n",
    "response.status_code\n",
    "response.ok\n",
    "data = response.json()\n",
    "\n",
    "def pokedex(num):\n",
    "    url = f'https://pokeapi.co/api/v2/pokemon/{num}'\n",
    "    response = requests.get(url)\n",
    "    if response.ok:\n",
    "        data = response.json()\n",
    "        pokemon_name = data[\"forms\"][0][\"name\"]        \n",
    "        ability = data[\"abilities\"][0][\"ability\"][\"name\"]\n",
    "        base_xp = data[\"base_experience\"]\n",
    "        sprite = data[\"sprites\"][\"front_shiny\"]\n",
    "        base_attack = data[\"stats\"][0][\"base_stat\"]\n",
    "        base_hp = data[\"stats\"][1][\"base_stat\"]\n",
    "        base_defense = data[\"stats\"][2][\"base_stat\"]\n",
    "    if num == 7:\n",
    "        return f\"pokedex number:{num}\\n The best starter pokemon: {pokemon_name}\\n an ability: {ability}\\n base experience: {base_xp}\\n pokemon spirite(url):{sprite}\\n base attack: {base_attack}\\n base health points:{base_hp}\\n base defense:{base_defense}\"\n",
    "    else:\n",
    "        return f\"pokedex number:{num}\\n pokemon's name: {pokemon_name}\\n an ability: {ability}\\n base experience: {base_xp}\\n pokemon spirite(url):{sprite}\\n base attack: {base_attack}\\n base health points:{base_hp}\\n base defense:{base_defense}\"\n",
    "\n",
    "new_pokemon = True\n",
    "while new_pokemon == True:\n",
    "    pokemon = int(input(\"What pokedex# do you want information on? \"))\n",
    "    \n",
    "    if pokemon:\n",
    "        print(pokedex(pokemon))\n",
    "    \n",
    "    another = input(\"would you like to add another pokemon? yes/no \")\n",
    "    if another.lower() == 'no':\n",
    "        new_pokemon = False\n",
    "    "
   ]
  }
 ],
 "metadata": {
  "kernelspec": {
   "display_name": "Python 3.10.8 64-bit (microsoft store)",
   "language": "python",
   "name": "python3"
  },
  "language_info": {
   "codemirror_mode": {
    "name": "ipython",
    "version": 3
   },
   "file_extension": ".py",
   "mimetype": "text/x-python",
   "name": "python",
   "nbconvert_exporter": "python",
   "pygments_lexer": "ipython3",
   "version": "3.10.9"
  },
  "vscode": {
   "interpreter": {
    "hash": "aa82987a71ca0339a52998cd22613b0c002bda8349fa32a0cb67ceec3936a2bf"
   }
  }
 },
 "nbformat": 4,
 "nbformat_minor": 5
}
